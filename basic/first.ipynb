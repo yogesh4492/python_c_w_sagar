{
 "cells": [
  {
   "cell_type": "code",
   "execution_count": 1,
   "id": "3be17b85",
   "metadata": {},
   "outputs": [
    {
     "name": "stdout",
     "output_type": "stream",
     "text": [
      "Hello World !!\n"
     ]
    }
   ],
   "source": [
    "print(\"Hello World !!\")"
   ]
  },
  {
   "cell_type": "code",
   "execution_count": 2,
   "id": "7e97cfe4",
   "metadata": {},
   "outputs": [
    {
     "name": "stdout",
     "output_type": "stream",
     "text": [
      "Welcome in Code With Sagar \n"
     ]
    }
   ],
   "source": [
    "print(\"Welcome in Code With Sagar \")"
   ]
  },
  {
   "cell_type": "code",
   "execution_count": null,
   "id": "edf39cc2",
   "metadata": {},
   "outputs": [],
   "source": [
    "\"\"\"   \n",
    "control statement\n",
    "\n",
    "1. conditional statement\n",
    "2.looping statemtent\n",
    "3.jumping statement\n",
    "\"\"\"\n",
    "\n"
   ]
  }
 ],
 "metadata": {
  "kernelspec": {
   "display_name": "Python 3",
   "language": "python",
   "name": "python3"
  },
  "language_info": {
   "codemirror_mode": {
    "name": "ipython",
    "version": 3
   },
   "file_extension": ".py",
   "mimetype": "text/x-python",
   "name": "python",
   "nbconvert_exporter": "python",
   "pygments_lexer": "ipython3",
   "version": "3.12.4"
  }
 },
 "nbformat": 4,
 "nbformat_minor": 5
}
