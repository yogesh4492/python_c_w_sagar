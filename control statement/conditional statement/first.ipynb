{
 "cells": [
  {
   "cell_type": "code",
   "execution_count": 10,
   "id": "83a10737",
   "metadata": {},
   "outputs": [
    {
     "name": "stdout",
     "output_type": "stream",
     "text": [
      "Exponent is= 8\n"
     ]
    }
   ],
   "source": [
    "\"\"\"\n",
    "basic calculator \n",
    "\n",
    "\"\"\"\n",
    "\n",
    "num1=int(input(\"Enter Number 1= \"))\n",
    "num2=int(input(\"Enter Number 2= \"))\n",
    "\n",
    "choice=input(\"Enter Your Choice (+, -,  * , /,  %,  //,  **) :\")\n",
    "\n",
    "if choice==\"+\":\n",
    "    print(f\"Addition is = {num1+num2}\")\n",
    "elif choice==\"-\":\n",
    "    print(f\"Subtraction  is= {num1-num2}\")\n",
    "elif choice==\"*\":\n",
    "    print(f\"Multiplication is= {num1*num2}\")\n",
    "elif choice==\"/\":\n",
    "    print(f\"division is= {num1/num2}\")\n",
    "elif choice==\"%\":\n",
    "    print(f\"Modulo is ={num1%num2}\")\n",
    "elif choice==\"//\":\n",
    "    print(f\"Floor division is= {num1//num2}\")\n",
    "elif choice==\"**\":\n",
    "    print(f\"Exponent is= {num1**num2}\")\n",
    "else:\n",
    "    print(\"Invalid Input\")\n"
   ]
  },
  {
   "cell_type": "code",
   "execution_count": null,
   "id": "bad7c20f",
   "metadata": {},
   "outputs": [],
   "source": []
  }
 ],
 "metadata": {
  "kernelspec": {
   "display_name": "Python 3",
   "language": "python",
   "name": "python3"
  },
  "language_info": {
   "codemirror_mode": {
    "name": "ipython",
    "version": 3
   },
   "file_extension": ".py",
   "mimetype": "text/x-python",
   "name": "python",
   "nbconvert_exporter": "python",
   "pygments_lexer": "ipython3",
   "version": "3.12.4"
  }
 },
 "nbformat": 4,
 "nbformat_minor": 5
}
