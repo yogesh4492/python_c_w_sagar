{
 "cells": [
  {
   "cell_type": "code",
   "execution_count": 3,
   "id": "ad502e2a",
   "metadata": {},
   "outputs": [
    {
     "name": "stdout",
     "output_type": "stream",
     "text": [
      "1\n",
      "2\n",
      "3\n",
      "4\n",
      "6\n",
      "7\n",
      "8\n",
      "9\n",
      "10\n"
     ]
    }
   ],
   "source": [
    "start=int(input(\"Enter start= \"))\n",
    "stop=int(input(\"Enter Stop= \"))\n",
    "\n",
    "skip=int(input(\"Enter Number You Want to skip= \"))\n",
    "\n",
    "for i in range(start,stop+1):\n",
    "    if start>stop:\n",
    "        print(\"Enter Valid start point\")\n",
    "    elif  i==skip:\n",
    "           continue\n",
    "    print(i)\n",
    "    \n",
    "    "
   ]
  },
  {
   "cell_type": "code",
   "execution_count": null,
   "id": "9f844f20",
   "metadata": {},
   "outputs": [],
   "source": []
  }
 ],
 "metadata": {
  "kernelspec": {
   "display_name": "Python 3",
   "language": "python",
   "name": "python3"
  },
  "language_info": {
   "codemirror_mode": {
    "name": "ipython",
    "version": 3
   },
   "file_extension": ".py",
   "mimetype": "text/x-python",
   "name": "python",
   "nbconvert_exporter": "python",
   "pygments_lexer": "ipython3",
   "version": "3.12.4"
  }
 },
 "nbformat": 4,
 "nbformat_minor": 5
}
